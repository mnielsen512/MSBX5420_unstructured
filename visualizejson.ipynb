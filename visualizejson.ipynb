{
 "cells": [
  {
   "cell_type": "markdown",
   "metadata": {},
   "source": [
    "## HW 5 Visualization\n",
    "## MSBX5420 \n",
    "### Mik Nielsen,  March 7 2019\n"
   ]
  },
  {
   "cell_type": "code",
   "execution_count": 9,
   "metadata": {},
   "outputs": [],
   "source": [
    "import os\n",
    "from glob import glob\n",
    "datadirs = glob(\"cwldata_2/structured-2018*\")"
   ]
  },
  {
   "cell_type": "code",
   "execution_count": 10,
   "metadata": {},
   "outputs": [],
   "source": [
    "#!pip install matplotlib\n",
    "import matplotlib.pyplot as plt\n",
    "from matplotlib.backends.backend_agg import FigureCanvasAgg as FigureCanvas\n",
    "from matplotlib.figure import Figure\n",
    "\n",
    "def visualizematch(matchdata, background_image, imagefile):\n",
    "    spawn_xs = []\n",
    "    spawn_ys = []\n",
    "    death_xs = []\n",
    "    for e in matchdata['events']:\n",
    "        spawn_ys.append(e['data']['pos']['y'])\n",
    "        spawn_xs.append(e['data']['pos']['x'])\n",
    "    if e['type']=='death':\n",
    "        death_ys.append(e['data']['pos']['y'])\n",
    "        death_xs.append(e['data']['pos']['x'])\n",
    "        \n",
    "    # create figures, maybe    \n",
    "    fig = Figure()\n",
    "    FigureCanvas(fig)\n",
    "    ax = fig.subplots(1,1)\n",
    "    \n",
    "    fig.set_figheight(15)\n",
    "    fig.set_figwidth(15)\n",
    "    \n",
    "    #plot background fingers crossed\n",
    "    img = plt.imread(background_image)\n",
    "    ax.imshow(img)\n",
    "    \n",
    "    ax.set_facecolor((210/255.0, 210/255.0, 210/255.9))\n",
    "    \n",
    "    # plot spawns and deaths\n",
    "    ax.scatter(spawn_xs, spawn_ys, color='cyan')\n",
    "    ax.scatter(death_xs, death_ys, color='red')\n",
    "    ax.set_title('{} ({})'.format(matchdata['map'], matchdata['mode']))\n",
    "    fig.savefig(imagefile)\n",
    "    "
   ]
  },
  {
   "cell_type": "code",
   "execution_count": 11,
   "metadata": {},
   "outputs": [],
   "source": [
    "for datafir in datadirs:\n",
    "    imagedir = 'images' + datadir\n",
    "    if not os.path.exists(imagedir):\n",
    "        os.mkdir(imagedir)\n",
    "        jsonfiles = glob(os.path.join(datadir, \"*.json\"))\n",
    "        for jsonfile in jsonfiles:\n",
    "            basename = os.path.basename(jsonfile)\n",
    "            noextension = os.path.splitext(basename)[0]\n",
    "            imagename = noextension + '.png'\n",
    "            imagefile = os.path.join(imagedir, imagename)\n",
    "            parsejsonmatch(jsonfile, imagefile)\n",
    "            "
   ]
  },
  {
   "cell_type": "code",
   "execution_count": null,
   "metadata": {},
   "outputs": [],
   "source": []
  }
 ],
 "metadata": {
  "kernelspec": {
   "display_name": "Python 3",
   "language": "python",
   "name": "python3"
  },
  "language_info": {
   "codemirror_mode": {
    "name": "ipython",
    "version": 3
   },
   "file_extension": ".py",
   "mimetype": "text/x-python",
   "name": "python",
   "nbconvert_exporter": "python",
   "pygments_lexer": "ipython3",
   "version": "3.7.2"
  }
 },
 "nbformat": 4,
 "nbformat_minor": 2
}
